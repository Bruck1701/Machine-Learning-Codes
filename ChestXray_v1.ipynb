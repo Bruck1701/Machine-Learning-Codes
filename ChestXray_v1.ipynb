{
 "cells": [
  {
   "cell_type": "markdown",
   "metadata": {},
   "source": [
    "## Desafio Chest-Xray\n",
    "### Top-5 maneiras de crashar o Google Colab."
   ]
  },
  {
   "cell_type": "markdown",
   "metadata": {},
   "source": [
    "Primeiro passo obtenção dos dados."
   ]
  },
  {
   "cell_type": "code",
   "execution_count": 0,
   "metadata": {
    "colab": {
     "autoexec": {
      "startup": false,
      "wait_interval": 0
     }
    },
    "colab_type": "code",
    "id": "RfR5bm5vIjH1"
   },
   "outputs": [],
   "source": [
    "#!wget https://data.mendeley.com/datasets/rscbjbr9sj/2/files/41d542e7-7f91-47f6-9ff2-dd8e5a5a7861/ChestXRay2017.zip"
   ]
  },
  {
   "cell_type": "code",
   "execution_count": 0,
   "metadata": {
    "colab": {
     "autoexec": {
      "startup": false,
      "wait_interval": 0
     }
    },
    "colab_type": "code",
    "id": "v5asbERRJRi0"
   },
   "outputs": [],
   "source": [
    "#!unzip ChestXRay2017.zip"
   ]
  },
  {
   "cell_type": "code",
   "execution_count": 0,
   "metadata": {
    "colab": {
     "autoexec": {
      "startup": false,
      "wait_interval": 0
     }
    },
    "colab_type": "code",
    "id": "lL7cCbskckoQ"
   },
   "outputs": [],
   "source": [
    "#!ls"
   ]
  },
  {
   "cell_type": "code",
   "execution_count": 4,
   "metadata": {
    "colab": {
     "autoexec": {
      "startup": false,
      "wait_interval": 0
     },
     "base_uri": "https://localhost:8080/",
     "height": 307
    },
    "colab_type": "code",
    "executionInfo": {
     "elapsed": 5993,
     "status": "ok",
     "timestamp": 1529281287312,
     "user": {
      "displayName": "Bruno Kümmel",
      "photoUrl": "//lh3.googleusercontent.com/-TZIkdX0GG0c/AAAAAAAAAAI/AAAAAAAAAZY/Pz1oAHXziVg/s50-c-k-no/photo.jpg",
      "userId": "106111082559549406649"
     },
     "user_tz": 180
    },
    "id": "tPWwjroGcx2H",
    "outputId": "bb2524d5-1575-4fd9-bd83-35347fd2a4d1"
   },
   "outputs": [
    {
     "name": "stdout",
     "output_type": "stream",
     "text": [
      "Collecting tqdm\n",
      "\u001b[?25l  Downloading https://files.pythonhosted.org/packages/93/24/6ab1df969db228aed36a648a8959d1027099ce45fad67532b9673d533318/tqdm-4.23.4-py2.py3-none-any.whl (42kB)\n",
      "\u001b[K    100% |████████████████████████████████| 51kB 1.4MB/s \n",
      "\u001b[?25hInstalling collected packages: tqdm\n",
      "Successfully installed tqdm-4.23.4\n",
      "Collecting imblearn\n",
      "  Downloading https://files.pythonhosted.org/packages/81/a7/4179e6ebfd654bd0eac0b9c06125b8b4c96a9d0a8ff9e9507eb2a26d2d7e/imblearn-0.0-py2.py3-none-any.whl\n",
      "Collecting imbalanced-learn (from imblearn)\n",
      "\u001b[?25l  Downloading https://files.pythonhosted.org/packages/80/a4/900463a3c0af082aed9c5a43f4ec317a9469710c5ef80496c9abc26ed0ca/imbalanced_learn-0.3.3-py3-none-any.whl (144kB)\n",
      "\u001b[K    100% |████████████████████████████████| 153kB 4.8MB/s \n",
      "\u001b[?25hRequirement already satisfied: scikit-learn in /usr/local/lib/python3.6/dist-packages (from imbalanced-learn->imblearn) (0.19.1)\n",
      "Requirement already satisfied: numpy in /usr/local/lib/python3.6/dist-packages (from imbalanced-learn->imblearn) (1.14.3)\n",
      "Requirement already satisfied: scipy in /usr/local/lib/python3.6/dist-packages (from imbalanced-learn->imblearn) (0.19.1)\n",
      "Installing collected packages: imbalanced-learn, imblearn\n",
      "Successfully installed imbalanced-learn-0.3.3 imblearn-0.0\n"
     ]
    }
   ],
   "source": [
    "!pip install tqdm\n",
    "!pip install imblearn"
   ]
  },
  {
   "cell_type": "code",
   "execution_count": 5,
   "metadata": {
    "colab": {
     "autoexec": {
      "startup": false,
      "wait_interval": 0
     },
     "base_uri": "https://localhost:8080/",
     "height": 35
    },
    "colab_type": "code",
    "executionInfo": {
     "elapsed": 8229,
     "status": "ok",
     "timestamp": 1529281297549,
     "user": {
      "displayName": "Bruno Kümmel",
      "photoUrl": "//lh3.googleusercontent.com/-TZIkdX0GG0c/AAAAAAAAAAI/AAAAAAAAAZY/Pz1oAHXziVg/s50-c-k-no/photo.jpg",
      "userId": "106111082559549406649"
     },
     "user_tz": 180
    },
    "id": "lJ8jBSa9c1oM",
    "outputId": "7e20eb68-bd18-405b-9e66-63c98b0d8fbe"
   },
   "outputs": [
    {
     "name": "stderr",
     "output_type": "stream",
     "text": [
      "Using TensorFlow backend.\n"
     ]
    }
   ],
   "source": [
    "import tqdm\n",
    "import os\n",
    "import h5py\n",
    "import seaborn as sns\n",
    "import numpy as np\n",
    "import matplotlib.pyplot as plt\n",
    "%matplotlib inline\n",
    "import pandas as pd\n",
    "import keras\n",
    "import skimage.transform\n",
    "\n",
    "from tqdm import tqdm\n",
    "\n",
    "from sklearn.utils import class_weight\n",
    "from keras.models import Model\n",
    "\n",
    "from keras.preprocessing.image import ImageDataGenerator\n",
    "from sklearn.metrics import classification_report\n",
    "from keras import Sequential\n",
    "from keras.layers import  Dropout, Flatten, Dense, Lambda,ZeroPadding2D,Convolution2D,MaxPooling2D,AlphaDropout, Conv2D, BatchNormalization\n",
    "from datetime import datetime"
   ]
  },
  {
   "cell_type": "code",
   "execution_count": 0,
   "metadata": {
    "colab": {
     "autoexec": {
      "startup": false,
      "wait_interval": 0
     }
    },
    "colab_type": "code",
    "id": "BMyI7alwgXm7"
   },
   "outputs": [],
   "source": [
    "import cv2"
   ]
  },
  {
   "cell_type": "markdown",
   "metadata": {
    "colab": {
     "autoexec": {
      "startup": false,
      "wait_interval": 0
     }
    },
    "colab_type": "code",
    "id": "tPB0qTUpIVlW"
   },
   "source": [
    "Código para gerar os dados de treino e teste a partir dos arquivos e salvar em um arquivo h5 para não ter que repetir o procedimento de downloadar/dezipar/e formatar os dados toda vez."
   ]
  },
  {
   "cell_type": "markdown",
   "metadata": {},
   "source": [
    "#### Primeiro crash: resize das imagens para as dimensões 224x224 "
   ]
  },
  {
   "cell_type": "code",
   "execution_count": 0,
   "metadata": {
    "colab": {
     "autoexec": {
      "startup": false,
      "wait_interval": 0
     }
    },
    "colab_type": "code",
    "id": "F5IsdQeZel_Y"
   },
   "outputs": [],
   "source": [
    "#def get_data(folder):\n",
    "#    X = []\n",
    "#    y = []\n",
    "#    for folderName in os.listdir(folder):\n",
    "#        if not folderName.startswith('.'):\n",
    "#            if folderName in ['NORMAL']:\n",
    "#                label = 0\n",
    "#            elif folderName in ['PNEUMONIA']:\n",
    "#                label = 1\n",
    "#            else:\n",
    "#                label = 2\n",
    "#            for image_filename in tqdm(os.listdir(folder + folderName)):\n",
    "#                img_file = cv2.imread(folder + folderName + '/' + image_filename)\n",
    "#                if img_file is not None:\n",
    "#                    img_file = skimage.transform.resize(img_file, (150, 150, 3))  #  <-------------- (150 x 150) pra funcionar no colab\n",
    "#                    img_arr = np.asarray(img_file)\n",
    "#                    X.append(img_arr)\n",
    "#                    y.append(label)\n",
    "#    X = np.asarray(X)\n",
    "#    y = np.asarray(y)\n",
    "#    return X,y\n",
    "#X_train, y_train = get_data(\"chest_xray/train/\")\n",
    "#X_test, y_test= get_data(\"chest_xray/test/\")\n",
    "\n",
    "#hf = h5py.File('dataset_chestxray.h5', 'w')\n",
    "\n",
    "#hf.create_dataset('X_train', data=X_train)\n",
    "#hf.create_dataset('y_train', data=y_train)\n",
    "#hf.create_dataset('X_test', data=X_test)\n",
    "#hf.create_dataset('y_test', data=y_test)\n",
    "#hf.close()"
   ]
  },
  {
   "cell_type": "markdown",
   "metadata": {
    "colab": {
     "autoexec": {
      "startup": false,
      "wait_interval": 0
     }
    },
    "colab_type": "code",
    "id": "qm4aat4apQ5l"
   },
   "source": [
    "código para inserir e obter os dados do google drive, caso a conexão com o kernel do colab caia"
   ]
  },
  {
   "cell_type": "code",
   "execution_count": 0,
   "metadata": {
    "colab": {
     "autoexec": {
      "startup": false,
      "wait_interval": 0
     }
    },
    "colab_type": "code",
    "id": "KcP9YuGmppFC"
   },
   "outputs": [],
   "source": [
    "from google.colab import files"
   ]
  },
  {
   "cell_type": "code",
   "execution_count": 0,
   "metadata": {
    "colab": {
     "autoexec": {
      "startup": false,
      "wait_interval": 0
     }
    },
    "colab_type": "code",
    "id": "VnoURBO3sWfC"
   },
   "outputs": [],
   "source": [
    "!pip install -U -q PyDrive"
   ]
  },
  {
   "cell_type": "code",
   "execution_count": 0,
   "metadata": {
    "colab": {
     "autoexec": {
      "startup": false,
      "wait_interval": 0
     }
    },
    "colab_type": "code",
    "id": "rCyeHMM6rU2H"
   },
   "outputs": [],
   "source": [
    "\n",
    "\n",
    "from pydrive.auth import GoogleAuth\n",
    "from pydrive.drive import GoogleDrive\n",
    "from google.colab import auth\n",
    "from oauth2client.client import GoogleCredentials\n",
    "\n",
    "# Authenticate and create the PyDrive client.\n",
    "auth.authenticate_user()\n",
    "gauth = GoogleAuth()\n",
    "gauth.credentials = GoogleCredentials.get_application_default()\n",
    "drive = GoogleDrive(gauth)"
   ]
  },
  {
   "cell_type": "code",
   "execution_count": 0,
   "metadata": {
    "colab": {
     "autoexec": {
      "startup": false,
      "wait_interval": 0
     }
    },
    "colab_type": "code",
    "id": "aGybvoqeK8-6"
   },
   "outputs": [],
   "source": [
    "from googleapiclient.discovery import build\n",
    "drive_service = build('drive', 'v3')"
   ]
  },
  {
   "cell_type": "code",
   "execution_count": 0,
   "metadata": {
    "colab": {
     "autoexec": {
      "startup": false,
      "wait_interval": 0
     }
    },
    "colab_type": "code",
    "id": "ekxpLHp3K9Jk"
   },
   "outputs": [],
   "source": [
    "file_id = '18mf4qqeP895Zj3FMsVy7hzqZwT9W19Qn'\n",
    "\n",
    "!pip install -U -q PyDrive\n",
    "import os\n",
    "from pydrive.auth import GoogleAuth\n",
    "from pydrive.drive import GoogleDrive\n",
    "from google.colab import auth\n",
    "from oauth2client.client import GoogleCredentials\n",
    "\n",
    "# 1. Authenticate and create the PyDrive client.\n",
    "auth.authenticate_user()\n",
    "gauth = GoogleAuth()\n",
    "gauth.credentials = GoogleCredentials.get_application_default()\n",
    "drive = GoogleDrive(gauth)\n",
    "\n",
    "# choose a local (colab) directory to store the data.\n",
    "local_download_path = os.path.expanduser('~/data')\n",
    "try:\n",
    "  os.makedirs(local_download_path)\n",
    "except: pass\n",
    "\n",
    "# 2. Auto-iterate using the query syntax\n",
    "#    https://developers.google.com/drive/v2/web/search-parameters\n",
    "\n",
    "#file_list = drive.ListFile(\n",
    "#    {'q': \"'18mf4qqeP895Zj3FMsVy7hzqZwT9W19Qn' in parents\"}).GetList()\n",
    "\n",
    "#for f in file_list:\n",
    "  # 3. Create & download by id.\n",
    "#  print('title: %s, id: %s' % (f['title'], f['id']))\n",
    "  \n",
    "fname = os.path.join(local_download_path,'dataset_chestxray.h5')\n",
    "  #print('downloading to {}'.format(fname))\n",
    "f_ = drive.CreateFile({'id':'18mf4qqeP895Zj3FMsVy7hzqZwT9W19Qn' })\n",
    "f_.GetContentFile(fname)\n",
    "\n"
   ]
  },
  {
   "cell_type": "code",
   "execution_count": 0,
   "metadata": {
    "colab": {
     "autoexec": {
      "startup": false,
      "wait_interval": 0
     }
    },
    "colab_type": "code",
    "id": "CuWYccAXSmrc"
   },
   "outputs": [],
   "source": [
    "with h5py.File(fname,'r') as hf:\n",
    "    X_train = hf['X_train'][:]\n",
    "    y_train = hf['y_train'][:]\n",
    "    X_test = hf['X_test'][:]\n",
    "    y_test = hf['y_test'][:]"
   ]
  },
  {
   "cell_type": "code",
   "execution_count": 14,
   "metadata": {
    "colab": {
     "autoexec": {
      "startup": false,
      "wait_interval": 0
     },
     "base_uri": "https://localhost:8080/",
     "height": 35
    },
    "colab_type": "code",
    "executionInfo": {
     "elapsed": 754,
     "status": "ok",
     "timestamp": 1529281412129,
     "user": {
      "displayName": "Bruno Kümmel",
      "photoUrl": "//lh3.googleusercontent.com/-TZIkdX0GG0c/AAAAAAAAAAI/AAAAAAAAAZY/Pz1oAHXziVg/s50-c-k-no/photo.jpg",
      "userId": "106111082559549406649"
     },
     "user_tz": 180
    },
    "id": "v2H9ZWMlS5It",
    "outputId": "f45dc8b8-767b-45e2-ef41-7ebeab3670ee"
   },
   "outputs": [
    {
     "data": {
      "text/plain": [
       "(5232, 150, 150, 3)"
      ]
     },
     "execution_count": 14,
     "metadata": {
      "tags": []
     },
     "output_type": "execute_result"
    }
   ],
   "source": [
    "X_train.shape"
   ]
  },
  {
   "cell_type": "code",
   "execution_count": 15,
   "metadata": {
    "colab": {
     "autoexec": {
      "startup": false,
      "wait_interval": 0
     },
     "base_uri": "https://localhost:8080/",
     "height": 35
    },
    "colab_type": "code",
    "executionInfo": {
     "elapsed": 908,
     "status": "ok",
     "timestamp": 1529281413223,
     "user": {
      "displayName": "Bruno Kümmel",
      "photoUrl": "//lh3.googleusercontent.com/-TZIkdX0GG0c/AAAAAAAAAAI/AAAAAAAAAZY/Pz1oAHXziVg/s50-c-k-no/photo.jpg",
      "userId": "106111082559549406649"
     },
     "user_tz": 180
    },
    "id": "PKcGRbb8TeBM",
    "outputId": "2a7803c4-ea02-4d10-d9de-e4d8b87d1919"
   },
   "outputs": [
    {
     "data": {
      "text/plain": [
       "numpy.ndarray"
      ]
     },
     "execution_count": 15,
     "metadata": {
      "tags": []
     },
     "output_type": "execute_result"
    }
   ],
   "source": [
    "type(X_train)"
   ]
  },
  {
   "cell_type": "markdown",
   "metadata": {
    "colab": {
     "autoexec": {
      "startup": false,
      "wait_interval": 0
     }
    },
    "colab_type": "code",
    "id": "PlJbz5GPYjg9"
   },
   "source": [
    "Olhada nos dados de treinamento...\n",
    "Aparentemente estão ordenados primeiro os sem pneumonia e depois os com pneumonia... (lembrar de colocar o shuffle=True na função fit"
   ]
  },
  {
   "cell_type": "code",
   "execution_count": 16,
   "metadata": {
    "colab": {
     "autoexec": {
      "startup": false,
      "wait_interval": 0
     },
     "base_uri": "https://localhost:8080/",
     "height": 35
    },
    "colab_type": "code",
    "executionInfo": {
     "elapsed": 1128,
     "status": "ok",
     "timestamp": 1529281416737,
     "user": {
      "displayName": "Bruno Kümmel",
      "photoUrl": "//lh3.googleusercontent.com/-TZIkdX0GG0c/AAAAAAAAAAI/AAAAAAAAAZY/Pz1oAHXziVg/s50-c-k-no/photo.jpg",
      "userId": "106111082559549406649"
     },
     "user_tz": 180
    },
    "id": "1VmvXA01S5Tb",
    "outputId": "b1a5e7a7-cab5-4874-f63b-8ba786585279"
   },
   "outputs": [
    {
     "data": {
      "text/plain": [
       "array([0, 0, 0, ..., 1, 1, 1])"
      ]
     },
     "execution_count": 16,
     "metadata": {
      "tags": []
     },
     "output_type": "execute_result"
    }
   ],
   "source": [
    "y_train"
   ]
  },
  {
   "cell_type": "code",
   "execution_count": 17,
   "metadata": {
    "colab": {
     "autoexec": {
      "startup": false,
      "wait_interval": 0
     },
     "base_uri": "https://localhost:8080/",
     "height": 287
    },
    "colab_type": "code",
    "executionInfo": {
     "elapsed": 529,
     "status": "ok",
     "timestamp": 1529281417521,
     "user": {
      "displayName": "Bruno Kümmel",
      "photoUrl": "//lh3.googleusercontent.com/-TZIkdX0GG0c/AAAAAAAAAAI/AAAAAAAAAZY/Pz1oAHXziVg/s50-c-k-no/photo.jpg",
      "userId": "106111082559549406649"
     },
     "user_tz": 180
    },
    "id": "T9SWqLNqo3xr",
    "outputId": "b5d6e53b-e264-4d76-b177-fe05441f35a1"
   },
   "outputs": [
    {
     "data": {
      "text/plain": [
       "<matplotlib.image.AxesImage at 0x7f574c0678d0>"
      ]
     },
     "execution_count": 17,
     "metadata": {
      "tags": []
     },
     "output_type": "execute_result"
    },
    {
     "data": {
      "image/png": "[encoded data removed]",
      "text/plain": [
       "<matplotlib.figure.Figure at 0x7f5795c3f8d0>"
      ]
     },
     "metadata": {
      "tags": []
     },
     "output_type": "display_data"
    }
   ],
   "source": [
    "plt.imshow(X_train[2])"
   ]
  },
  {
   "cell_type": "code",
   "execution_count": 18,
   "metadata": {
    "colab": {
     "autoexec": {
      "startup": false,
      "wait_interval": 0
     },
     "base_uri": "https://localhost:8080/",
     "height": 269
    },
    "colab_type": "code",
    "executionInfo": {
     "elapsed": 588,
     "status": "ok",
     "timestamp": 1529281418307,
     "user": {
      "displayName": "Bruno Kümmel",
      "photoUrl": "//lh3.googleusercontent.com/-TZIkdX0GG0c/AAAAAAAAAAI/AAAAAAAAAZY/Pz1oAHXziVg/s50-c-k-no/photo.jpg",
      "userId": "106111082559549406649"
     },
     "user_tz": 180
    },
    "id": "pgNCYFHZfHp4",
    "outputId": "b763d0d6-a59a-4dbe-d3a7-4f830bbcf234"
   },
   "outputs": [
    {
     "data": {
      "image/png": "[encoded data removed]",
      "text/plain": [
       "<matplotlib.figure.Figure at 0x7f574c0fe7b8>"
      ]
     },
     "metadata": {
      "tags": []
     },
     "output_type": "display_data"
    }
   ],
   "source": [
    "plt.imshow(X_train[-2]);"
   ]
  },
  {
   "cell_type": "code",
   "execution_count": null,
   "metadata": {},
   "outputs": [],
   "source": []
  },
  {
   "cell_type": "code",
   "execution_count": 0,
   "metadata": {
    "colab": {
     "autoexec": {
      "startup": false,
      "wait_interval": 0
     }
    },
    "colab_type": "code",
    "id": "jMoix9Nlv7so"
   },
   "outputs": [],
   "source": [
    "from collections import Counter"
   ]
  },
  {
   "cell_type": "code",
   "execution_count": 20,
   "metadata": {
    "colab": {
     "autoexec": {
      "startup": false,
      "wait_interval": 0
     },
     "base_uri": "https://localhost:8080/",
     "height": 35
    },
    "colab_type": "code",
    "executionInfo": {
     "elapsed": 604,
     "status": "ok",
     "timestamp": 1529281419697,
     "user": {
      "displayName": "Bruno Kümmel",
      "photoUrl": "//lh3.googleusercontent.com/-TZIkdX0GG0c/AAAAAAAAAAI/AAAAAAAAAZY/Pz1oAHXziVg/s50-c-k-no/photo.jpg",
      "userId": "106111082559549406649"
     },
     "user_tz": 180
    },
    "id": "97Y-Qt35v-34",
    "outputId": "a397b47e-7269-4b5c-9e7e-e99d86b928a8"
   },
   "outputs": [
    {
     "data": {
      "text/plain": [
       "Counter({0: 1349, 1: 3883})"
      ]
     },
     "execution_count": 20,
     "metadata": {
      "tags": []
     },
     "output_type": "execute_result"
    }
   ],
   "source": [
    "Counter(y_train)"
   ]
  },
  {
   "cell_type": "markdown",
   "metadata": {},
   "source": [
    "Verificar que os dados estão não balanceados..."
   ]
  },
  {
   "cell_type": "markdown",
   "metadata": {},
   "source": [
    "#### Segundo Crash: balancear com Oversample SMOTE "
   ]
  },
  {
   "cell_type": "code",
   "execution_count": null,
   "metadata": {},
   "outputs": [],
   "source": []
  },
  {
   "cell_type": "code",
   "execution_count": 0,
   "metadata": {
    "colab": {
     "autoexec": {
      "startup": false,
      "wait_interval": 0
     }
    },
    "colab_type": "code",
    "id": "rmx4lObExPnq"
   },
   "outputs": [],
   "source": [
    "y_train_ta = keras.utils.to_categorical(y_train, 2)\n",
    "y_test_te = keras.utils.to_categorical(y_test, 2)"
   ]
  },
  {
   "cell_type": "code",
   "execution_count": 0,
   "metadata": {
    "colab": {
     "autoexec": {
      "startup": false,
      "wait_interval": 0
     }
    },
    "colab_type": "code",
    "id": "bGhUsR4iyssg"
   },
   "outputs": [],
   "source": [
    "from imblearn.under_sampling import RandomUnderSampler"
   ]
  },
  {
   "cell_type": "code",
   "execution_count": 0,
   "metadata": {
    "colab": {
     "autoexec": {
      "startup": false,
      "wait_interval": 0
     }
    },
    "colab_type": "code",
    "id": "DGpZAAKH56EJ"
   },
   "outputs": [],
   "source": [
    "from keras.preprocessing.image import ImageDataGenerator"
   ]
  },
  {
   "cell_type": "code",
   "execution_count": 0,
   "metadata": {
    "colab": {
     "autoexec": {
      "startup": false,
      "wait_interval": 0
     }
    },
    "colab_type": "code",
    "id": "Pa84CSqwOL1U"
   },
   "outputs": [],
   "source": []
  },
  {
   "cell_type": "code",
   "execution_count": 0,
   "metadata": {
    "colab": {
     "autoexec": {
      "startup": false,
      "wait_interval": 0
     }
    },
    "colab_type": "code",
    "id": "iVy0oTZWxdbK"
   },
   "outputs": [],
   "source": [
    "X_trainShape = X_train.shape[1]*X_train.shape[2]*X_train.shape[3]\n",
    "#X_testShape = X_test.shape[1]*X_test.shape[2]*X_test.shape[3]\n",
    "X_trainFlat = X_train.reshape(X_train.shape[0], X_trainShape)\n",
    "#X_testFlat = X_test.reshape(X_test.shape[0], X_testShape)\n",
    "Y_train = y_train\n",
    "#Y_test = y_test\n",
    "\n",
    "#ros = RandomOverSampler(ratio='auto')\n",
    "ros = RandomUnderSampler(ratio='auto')\n",
    "X_trainRos, Y_trainRos = ros.fit_sample(X_trainFlat, Y_train)\n",
    "#X_testRos, Y_testRos = ros.fit_sample(X_testFlat, Y_test)\n",
    "# Encode labels to hot vectors (ex : 2 -> [0,0,1,0,0,0,0,0,0,0])\n",
    "\n",
    "Y_trainRosHot = keras.utils.to_categorical(Y_trainRos, num_classes = 2)\n",
    "\n",
    "#Y_testRosHot = to_categorical(Y_testRos, num_classes = 2)\n",
    "\n",
    "# Make Data 2D again\n",
    "for i in range(len(X_trainRos)):\n",
    "    height, width, channels = 150,150,3\n",
    "    X_trainRosReshaped = X_trainRos.reshape(len(X_trainRos),height,width,channels)\n",
    "    \n"
   ]
  },
  {
   "cell_type": "markdown",
   "metadata": {
    "colab": {
     "autoexec": {
      "startup": false,
      "wait_interval": 0
     }
    },
    "colab_type": "code",
    "id": "FDCp85WoaXcV"
   },
   "source": [
    "Aqui eu fiquei com dúvida se deveríamos de fato mexer nos dados de teste. O autor que postou o dataset mexeu nos dados de teste. Eu acho que cria Bias no modelo então não alterei o balanceamento dos dados de teste"
   ]
  },
  {
   "cell_type": "code",
   "execution_count": null,
   "metadata": {},
   "outputs": [],
   "source": []
  },
  {
   "cell_type": "code",
   "execution_count": null,
   "metadata": {},
   "outputs": [],
   "source": []
  },
  {
   "cell_type": "markdown",
   "metadata": {},
   "source": [
    "Como o Anderson comentou que as redes como a VGG16, Inception , Resnet foram treinadas com muitas imagens, não achei que o tamanho do dataset disponibilizado ( com a resolução possível no colab) seria suficiente pra treinar uma rede do zero... <Br>\n",
    "Então já optei pelo Transfer Learning de cara"
   ]
  },
  {
   "cell_type": "markdown",
   "metadata": {},
   "source": [
    "eu testei a VGG16, VGG19 e Inception, o melhor resultado foi com a Vgg16 mesmo como esperado"
   ]
  },
  {
   "cell_type": "code",
   "execution_count": 0,
   "metadata": {
    "colab": {
     "autoexec": {
      "startup": false,
      "wait_interval": 0
     }
    },
    "colab_type": "code",
    "id": "exQQiEhglW4w"
   },
   "outputs": [],
   "source": [
    "from keras.applications.vgg16 import VGG16\n",
    "#from keras.applications.vgg19 import VGG19"
   ]
  },
  {
   "cell_type": "code",
   "execution_count": 0,
   "metadata": {
    "colab": {
     "autoexec": {
      "startup": false,
      "wait_interval": 0
     }
    },
    "colab_type": "code",
    "id": "mgL5zqM-V80O"
   },
   "outputs": [],
   "source": [
    "vgg16_pretreinada = VGG16(include_top=False, input_shape=X_train[0].shape)\n",
    "\n"
   ]
  },
  {
   "cell_type": "code",
   "execution_count": 0,
   "metadata": {
    "colab": {
     "autoexec": {
      "startup": false,
      "wait_interval": 0
     }
    },
    "colab_type": "code",
    "id": "jnuhd_pDcIBj"
   },
   "outputs": [],
   "source": [
    "from sklearn.model_selection import train_test_split\n",
    "from keras.callbacks import ModelCheckpoint, EarlyStopping\n",
    " "
   ]
  },
  {
   "cell_type": "code",
   "execution_count": 0,
   "metadata": {
    "colab": {
     "autoexec": {
      "startup": false,
      "wait_interval": 0
     }
    },
    "colab_type": "code",
    "id": "sSJiYZKvR_Xq"
   },
   "outputs": [],
   "source": []
  },
  {
   "cell_type": "code",
   "execution_count": null,
   "metadata": {},
   "outputs": [],
   "source": []
  },
  {
   "cell_type": "markdown",
   "metadata": {},
   "source": [
    "Eu percebi que a VGG16 do keras ( só do keras? ) não tinha regularização, então utilizei as chamadas de API do keras para separar algumas layers e testar Dropout entre elas e BatchNormalization"
   ]
  },
  {
   "cell_type": "markdown",
   "metadata": {},
   "source": [
    "#### Terceiro crash:  BatchNormalization()  no Colab "
   ]
  },
  {
   "cell_type": "markdown",
   "metadata": {},
   "source": [
    "O melhor resultado mesmo foi sem nenhuma regularização dentro da VGG16 . Faz sentido, pois os pesos dentro da rede já estão setados para não ter regularização."
   ]
  },
  {
   "cell_type": "markdown",
   "metadata": {},
   "source": [
    "Também testei o Data augmentation do Keras, mas o desempenho também caiu. Na verdade eu já tinha testado em outros exercícios e tinha a noção que sem estudar o método de augmentation e entender que operações devem ser feitas nos dados para aumentar o dataset, o desempenho tende a piorar mesmo."
   ]
  },
  {
   "cell_type": "markdown",
   "metadata": {},
   "source": [
    "Me restou calibrar o top-level com difeerentes parâmetros mesmo. <br>\n",
    "Optimizer, número de neurônios, activation, earlystop/checkpoint"
   ]
  },
  {
   "cell_type": "markdown",
   "metadata": {},
   "source": [
    "### Quarto crash:  Resource Exhaustion Número de neurônios nas últimas camadas"
   ]
  },
  {
   "cell_type": "code",
   "execution_count": 0,
   "metadata": {
    "colab": {
     "autoexec": {
      "startup": false,
      "wait_interval": 0
     }
    },
    "colab_type": "code",
    "id": "7ybIllH6X4JA"
   },
   "outputs": [],
   "source": [
    "def pretrainedNetwork(xtrain,ytrain,xtest,ytest,pretrainedmodel,numclasses,numepochs,optimizer):\n",
    "    \n",
    "    \n",
    "    base_model = pretrainedmodel # Topless\n",
    "    # Add top layer\n",
    "    \n",
    "    \n",
    "\n",
    "    dropout6 = Dropout(0.65)\n",
    "    dropout7 = Dropout(0.65)\n",
    "    \n",
    "    #dropout2 = Dropout(0.85)\n",
    "    #dropout8 = Dropout(.5)\n",
    "    dense1 = Dense(512, kernel_initializer='he_normal', activation='relu')\n",
    "    dense2 = Dense(512, kernel_initializer='he_normal', activation='relu')\n",
    "    \n",
    "    \n",
    "    x = base_model.output\n",
    "    x = Flatten()(x)\n",
    "    x = dense1(x)\n",
    "    x = dropout6(x)\n",
    "   \n",
    "    x = dense2(x)\n",
    "    x= dropout7(x)\n",
    "    #x= dropout8(x)\n",
    "    \n",
    "    \n",
    "    predictions = Dense(numclasses, activation='sigmoid')(x)\n",
    "    \n",
    "    \n",
    "    model = Model(inputs=base_model.input, outputs=predictions)\n",
    "    \n",
    "    \n",
    "    # Train top layer\n",
    "    for layer in base_model.layers:\n",
    "      layer.trainable = False\n",
    "    \n",
    "    model.compile(loss='binary_crossentropy',  optimizer=optimizer,  metrics=['accuracy'])\n",
    "    \n",
    "    #callbacks_list = [keras.callbacks.EarlyStopping(monitor='val_acc', patience=10, verbose=1)]\n",
    "    \n",
    "        \n",
    "    filepath=\"new_weights.best.hdf5\"\n",
    "    checkpoint = ModelCheckpoint(filepath, monitor='val_acc', verbose=1, save_best_only=True, mode='max')\n",
    "\n",
    "# check 5 epochs\n",
    "    early_stop = EarlyStopping(monitor='val_acc', patience=15, mode='max') \n",
    "    callbacks_list = [checkpoint, early_stop]\n",
    "  \n",
    "       \n",
    "    model.summary()\n",
    "    \n",
    "      \n",
    "    model.fit(xtrain,ytrain, epochs=numepochs, validation_data=(xtest,ytest),  batch_size=30, shuffle=True,verbose=1,callbacks = callbacks_list)\n",
    "      \n",
    "    #model.fit_generator( train_generator,  steps_per_epoch=len(X_train)//batch_size, epochs=numepochs,validation_data=(xtest,ytest), shuffle=True,verbose=1,callbacks = callbacks_list)\n",
    "    \n",
    "    \n",
    "    model.load_weights(filepath, by_name=False)\n",
    "      \n",
    "      \n",
    "    scores = model.evaluate(xtrain, ytrain, verbose=0)\n",
    "    print(\"Training %s: %.2f%%\" % (model.metrics_names[1], scores[1]*100))\n",
    "      \n",
    "    scores = model.evaluate(xtest, ytest, verbose=0)\n",
    "    print(\"Test %s: %.2f%%\" % (model.metrics_names[1], scores[1]*100))\n",
    "      \n",
    "      \n",
    "  \n",
    "    \n",
    "    return model"
   ]
  },
  {
   "cell_type": "code",
   "execution_count": 0,
   "metadata": {
    "colab": {
     "autoexec": {
      "startup": false,
      "wait_interval": 0
     }
    },
    "colab_type": "code",
    "id": "hlUMPkXKZ5_e"
   },
   "outputs": [],
   "source": [
    "#adam=keras.optimizers.Adam(lr=0.001,beta_1=0.9,beta_2=0.999,epsilon=1e-08,decay=0.0)"
   ]
  },
  {
   "cell_type": "code",
   "execution_count": 119,
   "metadata": {
    "colab": {
     "autoexec": {
      "startup": false,
      "wait_interval": 0
     },
     "base_uri": "https://localhost:8080/",
     "height": 2269
    },
    "colab_type": "code",
    "executionInfo": {
     "elapsed": 320338,
     "status": "ok",
     "timestamp": 1529287121220,
     "user": {
      "displayName": "Bruno Kümmel",
      "photoUrl": "//lh3.googleusercontent.com/-TZIkdX0GG0c/AAAAAAAAAAI/AAAAAAAAAZY/Pz1oAHXziVg/s50-c-k-no/photo.jpg",
      "userId": "106111082559549406649"
     },
     "user_tz": 180
    },
    "id": "Ra6IsCJmZR_x",
    "outputId": "3f354156-89d2-4fa6-cc57-e81f01edcd51"
   },
   "outputs": [
    {
     "name": "stdout",
     "output_type": "stream",
     "text": [
      "_________________________________________________________________\n",
      "Layer (type)                 Output Shape              Param #   \n",
      "=================================================================\n",
      "input_2 (InputLayer)         (None, 150, 150, 3)       0         \n",
      "_________________________________________________________________\n",
      "block1_conv1 (Conv2D)        (None, 150, 150, 64)      1792      \n",
      "_________________________________________________________________\n",
      "block1_conv2 (Conv2D)        (None, 150, 150, 64)      36928     \n",
      "_________________________________________________________________\n",
      "block1_pool (MaxPooling2D)   (None, 75, 75, 64)        0         \n",
      "_________________________________________________________________\n",
      "block2_conv1 (Conv2D)        (None, 75, 75, 128)       73856     \n",
      "_________________________________________________________________\n",
      "block2_conv2 (Conv2D)        (None, 75, 75, 128)       147584    \n",
      "_________________________________________________________________\n",
      "block2_pool (MaxPooling2D)   (None, 37, 37, 128)       0         \n",
      "_________________________________________________________________\n",
      "block3_conv1 (Conv2D)        (None, 37, 37, 256)       295168    \n",
      "_________________________________________________________________\n",
      "block3_conv2 (Conv2D)        (None, 37, 37, 256)       590080    \n",
      "_________________________________________________________________\n",
      "block3_conv3 (Conv2D)        (None, 37, 37, 256)       590080    \n",
      "_________________________________________________________________\n",
      "block3_pool (MaxPooling2D)   (None, 18, 18, 256)       0         \n",
      "_________________________________________________________________\n",
      "block4_conv1 (Conv2D)        (None, 18, 18, 512)       1180160   \n",
      "_________________________________________________________________\n",
      "block4_conv2 (Conv2D)        (None, 18, 18, 512)       2359808   \n",
      "_________________________________________________________________\n",
      "block4_conv3 (Conv2D)        (None, 18, 18, 512)       2359808   \n",
      "_________________________________________________________________\n",
      "block4_pool (MaxPooling2D)   (None, 9, 9, 512)         0         \n",
      "_________________________________________________________________\n",
      "block5_conv1 (Conv2D)        (None, 9, 9, 512)         2359808   \n",
      "_________________________________________________________________\n",
      "block5_conv2 (Conv2D)        (None, 9, 9, 512)         2359808   \n",
      "_________________________________________________________________\n",
      "block5_conv3 (Conv2D)        (None, 9, 9, 512)         2359808   \n",
      "_________________________________________________________________\n",
      "block5_pool (MaxPooling2D)   (None, 4, 4, 512)         0         \n",
      "_________________________________________________________________\n",
      "flatten_11 (Flatten)         (None, 8192)              0         \n",
      "_________________________________________________________________\n",
      "dense_31 (Dense)             (None, 512)               4194816   \n",
      "_________________________________________________________________\n",
      "dropout_21 (Dropout)         (None, 512)               0         \n",
      "_________________________________________________________________\n",
      "dense_32 (Dense)             (None, 512)               262656    \n",
      "_________________________________________________________________\n",
      "dropout_22 (Dropout)         (None, 512)               0         \n",
      "_________________________________________________________________\n",
      "dense_33 (Dense)             (None, 2)                 1026      \n",
      "=================================================================\n",
      "Total params: 19,173,186\n",
      "Trainable params: 4,458,498\n",
      "Non-trainable params: 14,714,688\n",
      "_________________________________________________________________\n",
      "Train on 2698 samples, validate on 624 samples\n",
      "Epoch 1/50\n",
      " 720/2698 [=======>......................] - ETA: 13s - loss: 0.7586 - acc: 0.66812698/2698 [==============================] - 20s 7ms/step - loss: 0.4005 - acc: 0.8354 - val_loss: 0.2573 - val_acc: 0.9046\n",
      "\n",
      "Epoch 00001: val_acc improved from -inf to 0.90465, saving model to new_weights.best.hdf5\n",
      "Epoch 2/50\n",
      "2698/2698 [==============================] - 19s 7ms/step - loss: 0.1768 - acc: 0.9346 - val_loss: 0.6372 - val_acc: 0.7804\n",
      "\n",
      "Epoch 00002: val_acc did not improve from 0.90465\n",
      "Epoch 3/50\n",
      "2698/2698 [==============================] - 19s 7ms/step - loss: 0.1687 - acc: 0.9398 - val_loss: 0.4500 - val_acc: 0.8277\n",
      "\n",
      "Epoch 00003: val_acc did not improve from 0.90465\n",
      "Epoch 4/50\n",
      " 960/2698 [=========>....................] - ETA: 9s - loss: 0.1393 - acc: 0.9406 2698/2698 [==============================] - 19s 7ms/step - loss: 0.1444 - acc: 0.9455 - val_loss: 0.3051 - val_acc: 0.8894\n",
      "\n",
      "Epoch 00004: val_acc did not improve from 0.90465\n",
      "Epoch 5/50\n",
      "2698/2698 [==============================] - 19s 7ms/step - loss: 0.1393 - acc: 0.9477 - val_loss: 0.3244 - val_acc: 0.8830\n",
      "\n",
      "Epoch 00005: val_acc did not improve from 0.90465\n",
      "Epoch 6/50\n",
      "2698/2698 [==============================] - 19s 7ms/step - loss: 0.1227 - acc: 0.9540 - val_loss: 0.4140 - val_acc: 0.8718\n",
      "\n",
      "Epoch 00006: val_acc did not improve from 0.90465\n",
      "Epoch 7/50\n",
      "1410/2698 [==============>...............] - ETA: 7s - loss: 0.1316 - acc: 0.95822698/2698 [==============================] - 19s 7ms/step - loss: 0.1207 - acc: 0.9594 - val_loss: 0.5537 - val_acc: 0.8454\n",
      "\n",
      "Epoch 00007: val_acc did not improve from 0.90465\n",
      "Epoch 8/50\n",
      "2698/2698 [==============================] - 19s 7ms/step - loss: 0.1099 - acc: 0.9590 - val_loss: 0.4499 - val_acc: 0.8462\n",
      "\n",
      "Epoch 00008: val_acc did not improve from 0.90465\n",
      "Epoch 9/50\n",
      "2698/2698 [==============================] - 19s 7ms/step - loss: 0.1135 - acc: 0.9581 - val_loss: 0.6441 - val_acc: 0.7901\n",
      "\n",
      "Epoch 00009: val_acc did not improve from 0.90465\n",
      "Epoch 10/50\n",
      "1470/2698 [===============>..............] - ETA: 6s - loss: 0.1123 - acc: 0.96052698/2698 [==============================] - 19s 7ms/step - loss: 0.1168 - acc: 0.9598 - val_loss: 0.6313 - val_acc: 0.8333\n",
      "\n",
      "Epoch 00010: val_acc did not improve from 0.90465\n",
      "Epoch 11/50\n",
      "2698/2698 [==============================] - 19s 7ms/step - loss: 0.0980 - acc: 0.9615 - val_loss: 0.9025 - val_acc: 0.7772\n",
      "\n",
      "Epoch 00011: val_acc did not improve from 0.90465\n",
      "Epoch 12/50\n",
      "2698/2698 [==============================] - 19s 7ms/step - loss: 0.1067 - acc: 0.9581 - val_loss: 0.7359 - val_acc: 0.7925\n",
      "\n",
      "Epoch 00012: val_acc did not improve from 0.90465\n",
      "Epoch 13/50\n",
      "1440/2698 [===============>..............] - ETA: 7s - loss: 0.1351 - acc: 0.95592698/2698 [==============================] - 19s 7ms/step - loss: 0.1142 - acc: 0.9624 - val_loss: 0.4986 - val_acc: 0.8462\n",
      "\n",
      "Epoch 00013: val_acc did not improve from 0.90465\n",
      "Epoch 14/50\n",
      "2698/2698 [==============================] - 19s 7ms/step - loss: 0.1004 - acc: 0.9618 - val_loss: 0.5926 - val_acc: 0.8341\n",
      "\n",
      "Epoch 00014: val_acc did not improve from 0.90465\n",
      "Epoch 15/50\n",
      "2698/2698 [==============================] - 19s 7ms/step - loss: 0.1033 - acc: 0.9598 - val_loss: 0.5099 - val_acc: 0.8558\n",
      "\n",
      "Epoch 00015: val_acc did not improve from 0.90465\n",
      "Epoch 16/50\n",
      "1440/2698 [===============>..............] - ETA: 7s - loss: 0.0597 - acc: 0.97532698/2698 [==============================] - 19s 7ms/step - loss: 0.0897 - acc: 0.9672 - val_loss: 0.4346 - val_acc: 0.8686\n",
      "\n",
      "Epoch 00016: val_acc did not improve from 0.90465\n",
      "Training acc: 94.20%\n",
      "Test acc: 90.46%\n"
     ]
    }
   ],
   "source": [
    "\n",
    "\n",
    "model=pretrainedNetwork(X_trainRosReshaped, Y_trainRosHot, X_test, y_test_te,vgg16_pretreinada,2,50,'adam')"
   ]
  },
  {
   "cell_type": "code",
   "execution_count": 0,
   "metadata": {
    "colab": {
     "autoexec": {
      "startup": false,
      "wait_interval": 0
     }
    },
    "colab_type": "code",
    "id": "Dm0Gr8EOxUX5"
   },
   "outputs": [],
   "source": [
    "from sklearn.metrics import f1_score"
   ]
  },
  {
   "cell_type": "markdown",
   "metadata": {
    "colab": {
     "autoexec": {
      "startup": false,
      "wait_interval": 0
     }
    },
    "colab_type": "code",
    "id": "ucxvZ2tgxcFo"
   },
   "source": [
    "Última ideia: Ensemble vou tentar gerar mais de uma rede e tirar a média dos resultados"
   ]
  },
  {
   "cell_type": "markdown",
   "metadata": {
    "colab": {
     "autoexec": {
      "startup": false,
      "wait_interval": 0
     }
    },
    "colab_type": "code",
    "id": "ONy2tvc2ykcP"
   },
   "source": [
    "#### Quinto crash: Memmory crash.  <br>\n",
    "\n",
    "Para conseguir um ensemble razoavelmente interessante teria que subir mais umas 4 ou 6 redes. Na segunda rede, já ocorria Resource exhaustion.  "
   ]
  },
  {
   "cell_type": "code",
   "execution_count": null,
   "metadata": {},
   "outputs": [],
   "source": []
  },
  {
   "cell_type": "code",
   "execution_count": null,
   "metadata": {},
   "outputs": [],
   "source": []
  },
  {
   "cell_type": "code",
   "execution_count": 0,
   "metadata": {
    "colab": {
     "autoexec": {
      "startup": false,
      "wait_interval": 0
     }
    },
    "colab_type": "code",
    "id": "uvA6HiRoyV-b"
   },
   "outputs": [],
   "source": [
    "pred=[]\n",
    "for i in model.predict(X_test):\n",
    "  if i[0]>=.5:\n",
    "    pred.append(0)\n",
    "  else:\n",
    "    pred.append(1)\n",
    "    "
   ]
  },
  {
   "cell_type": "code",
   "execution_count": 0,
   "metadata": {
    "colab": {
     "autoexec": {
      "startup": false,
      "wait_interval": 0
     }
    },
    "colab_type": "code",
    "id": "_2IlUXeVylaz"
   },
   "outputs": [],
   "source": [
    "#y_test"
   ]
  },
  {
   "cell_type": "code",
   "execution_count": 130,
   "metadata": {
    "colab": {
     "autoexec": {
      "startup": false,
      "wait_interval": 0
     },
     "base_uri": "https://localhost:8080/",
     "height": 35
    },
    "colab_type": "code",
    "executionInfo": {
     "elapsed": 2075,
     "status": "ok",
     "timestamp": 1529287154233,
     "user": {
      "displayName": "Bruno Kümmel",
      "photoUrl": "//lh3.googleusercontent.com/-TZIkdX0GG0c/AAAAAAAAAAI/AAAAAAAAAZY/Pz1oAHXziVg/s50-c-k-no/photo.jpg",
      "userId": "106111082559549406649"
     },
     "user_tz": 180
    },
    "id": "XX4YQZylzH0Z",
    "outputId": "f6b9643c-5fe9-48e8-91cd-9feef0833e0e"
   },
   "outputs": [
    {
     "data": {
      "text/plain": [
       "0.9038461538461539"
      ]
     },
     "execution_count": 130,
     "metadata": {
      "tags": []
     },
     "output_type": "execute_result"
    }
   ],
   "source": [
    "sum(np.array(np.array(pred)==y_test,dtype=int))/len(y_test)"
   ]
  },
  {
   "cell_type": "code",
   "execution_count": 131,
   "metadata": {
    "colab": {
     "autoexec": {
      "startup": false,
      "wait_interval": 0
     },
     "base_uri": "https://localhost:8080/",
     "height": 35
    },
    "colab_type": "code",
    "executionInfo": {
     "elapsed": 2822,
     "status": "ok",
     "timestamp": 1529287157299,
     "user": {
      "displayName": "Bruno Kümmel",
      "photoUrl": "//lh3.googleusercontent.com/-TZIkdX0GG0c/AAAAAAAAAAI/AAAAAAAAAZY/Pz1oAHXziVg/s50-c-k-no/photo.jpg",
      "userId": "106111082559549406649"
     },
     "user_tz": 180
    },
    "id": "ivxofPn7xUiV",
    "outputId": "75c462a1-4bda-4b13-c281-1e5d2222693f"
   },
   "outputs": [
    {
     "data": {
      "text/plain": [
       "0.9249999999999999"
      ]
     },
     "execution_count": 131,
     "metadata": {
      "tags": []
     },
     "output_type": "execute_result"
    }
   ],
   "source": [
    "f1_score(y_test, pred)"
   ]
  },
  {
   "cell_type": "code",
   "execution_count": 0,
   "metadata": {
    "colab": {
     "autoexec": {
      "startup": false,
      "wait_interval": 0
     }
    },
    "colab_type": "code",
    "id": "G9ErkA5iqDDl"
   },
   "outputs": [],
   "source": [
    "from sklearn.metrics import classification_report"
   ]
  },
  {
   "cell_type": "code",
   "execution_count": 133,
   "metadata": {
    "colab": {
     "autoexec": {
      "startup": false,
      "wait_interval": 0
     },
     "base_uri": "https://localhost:8080/",
     "height": 143
    },
    "colab_type": "code",
    "executionInfo": {
     "elapsed": 650,
     "status": "ok",
     "timestamp": 1529287162969,
     "user": {
      "displayName": "Bruno Kümmel",
      "photoUrl": "//lh3.googleusercontent.com/-TZIkdX0GG0c/AAAAAAAAAAI/AAAAAAAAAZY/Pz1oAHXziVg/s50-c-k-no/photo.jpg",
      "userId": "106111082559549406649"
     },
     "user_tz": 180
    },
    "id": "Xe3ZifYGqDOO",
    "outputId": "64973fb8-c281-4d06-d76c-59f8000acca5"
   },
   "outputs": [
    {
     "name": "stdout",
     "output_type": "stream",
     "text": [
      "             precision    recall  f1-score   support\n",
      "\n",
      "          0       0.91      0.83      0.87       234\n",
      "          1       0.90      0.95      0.92       390\n",
      "\n",
      "avg / total       0.90      0.90      0.90       624\n",
      "\n"
     ]
    }
   ],
   "source": [
    "print(classification_report(y_test,pred))"
   ]
  },
  {
   "cell_type": "markdown",
   "metadata": {
    "colab": {
     "autoexec": {
      "startup": false,
      "wait_interval": 0
     }
    },
    "colab_type": "code",
    "id": "h6moJ4G3ynQc"
   },
   "source": [
    "Nada muito excelente, mas um monte de lições aprendidas. <Br><br>\n",
    "Primeiro: Não dependa do Colab ou plataformas \"gratuitas\". Nada supera o próprio equipamento ou o serviço pago...<br>\n",
    "Segundo: estudar os dados é fundamental para construir o modelo. Esse era um caso típico de augmentation e tratamento dos dados<br>    \n",
    "Terceiro: Os Ensembles são fundamentais nestes casos, em um subset menor dos dados eu consegui uma melhoria significativa +-2%, mas não dava pra utilizar como resultado na competição."
   ]
  },
  {
   "cell_type": "code",
   "execution_count": 0,
   "metadata": {
    "colab": {
     "autoexec": {
      "startup": false,
      "wait_interval": 0
     }
    },
    "colab_type": "code",
    "id": "PsH8cFRoynWG"
   },
   "outputs": [],
   "source": []
  }
 ],
 "metadata": {
  "accelerator": "GPU",
  "colab": {
   "collapsed_sections": [],
   "default_view": {},
   "name": "ChestXray.ipynb",
   "provenance": [],
   "version": "0.3.2",
   "views": {}
  },
  "kernelspec": {
   "display_name": "Python 3",
   "language": "python",
   "name": "python3"
  },
  "language_info": {
   "codemirror_mode": {
    "name": "ipython",
    "version": 3
   },
   "file_extension": ".py",
   "mimetype": "text/x-python",
   "name": "python",
   "nbconvert_exporter": "python",
   "pygments_lexer": "ipython3",
   "version": "3.5.2"
  }
 },
 "nbformat": 4,
 "nbformat_minor": 1
}
