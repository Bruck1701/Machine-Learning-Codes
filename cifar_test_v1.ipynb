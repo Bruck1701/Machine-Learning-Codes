{
  "nbformat": 4,
  "nbformat_minor": 0,
  "metadata": {
    "colab": {
      "name": "cifar_test-v1.ipynb",
      "version": "0.3.2",
      "provenance": [],
      "collapsed_sections": []
    },
    "kernelspec": {
      "name": "python3",
      "display_name": "Python 3"
    },
    "accelerator": "GPU"
  },
  "cells": [
    {
      "cell_type": "code",
      "metadata": {
        "id": "Rv1iKrJhmoyK",
        "colab_type": "code",
        "colab": {}
      },
      "source": [
        "import pandas as pd\n",
        "import keras\n",
        "\n",
        "from keras.layers import Conv2D, MaxPooling2D, Activation, Flatten,Dense, Dropout\n",
        "from keras.models import Sequential\n",
        "from keras.optimizers import Adam\n",
        "\n",
        "import numpy as np\n",
        "import matplotlib.pyplot as plt\n",
        "\n",
        "from collections import Counter"
      ],
      "execution_count": 0,
      "outputs": []
    },
    {
      "cell_type": "code",
      "metadata": {
        "id": "pkvp0-rtq2TR",
        "colab_type": "code",
        "outputId": "0e1b03fb-12ee-4c98-b469-3da856b73860",
        "colab": {
          "base_uri": "https://localhost:8080/",
          "height": 34
        }
      },
      "source": [
        "from keras import backend as K\n",
        "K.tensorflow_backend._get_available_gpus()"
      ],
      "execution_count": 85,
      "outputs": [
        {
          "output_type": "execute_result",
          "data": {
            "text/plain": [
              "['/job:localhost/replica:0/task:0/device:GPU:0']"
            ]
          },
          "metadata": {
            "tags": []
          },
          "execution_count": 85
        }
      ]
    },
    {
      "cell_type": "code",
      "metadata": {
        "id": "b-J8a1rTmzZk",
        "colab_type": "code",
        "colab": {}
      },
      "source": [
        "from keras.datasets import cifar10\n",
        "\n",
        "(x_train, y_train), (x_test, y_test) = cifar10.load_data()"
      ],
      "execution_count": 0,
      "outputs": []
    },
    {
      "cell_type": "code",
      "metadata": {
        "id": "JAZ-Ps69t41N",
        "colab_type": "code",
        "colab": {}
      },
      "source": [
        "num_classes=10"
      ],
      "execution_count": 0,
      "outputs": []
    },
    {
      "cell_type": "code",
      "metadata": {
        "id": "n9Mu5ySDpNyn",
        "colab_type": "code",
        "colab": {}
      },
      "source": [
        "y_train = keras.utils.to_categorical(y_train, num_classes)\n",
        "y_test = keras.utils.to_categorical(y_test, num_classes)\n",
        "\n",
        "x_train = x_train.astype('float32')\n",
        "x_test = x_test.astype('float32')\n",
        "x_train /= 255\n",
        "x_test /= 255"
      ],
      "execution_count": 0,
      "outputs": []
    },
    {
      "cell_type": "code",
      "metadata": {
        "id": "LXrf76gBo-Qj",
        "colab_type": "code",
        "colab": {}
      },
      "source": [
        "input_shape=x_train[0].shape"
      ],
      "execution_count": 0,
      "outputs": []
    },
    {
      "cell_type": "code",
      "metadata": {
        "id": "WnxJG5jIqmxR",
        "colab_type": "code",
        "colab": {}
      },
      "source": [
        "# Image Sample"
      ],
      "execution_count": 0,
      "outputs": []
    },
    {
      "cell_type": "code",
      "metadata": {
        "id": "ZpY6t2FQnRaJ",
        "colab_type": "code",
        "outputId": "51d464de-6daf-4b66-b56a-fab1eca3494f",
        "colab": {
          "base_uri": "https://localhost:8080/",
          "height": 286
        }
      },
      "source": [
        "plt.imshow(x_train[9])"
      ],
      "execution_count": 91,
      "outputs": [
        {
          "output_type": "execute_result",
          "data": {
            "text/plain": [
              "<matplotlib.image.AxesImage at 0x7fefb9dc1e48>"
            ]
          },
          "metadata": {
            "tags": []
          },
          "execution_count": 91
        },
        {
          "output_type": "display_data",
          "data": {
            "image/png": "[encoded data removed]",
            "text/plain": [
              "<Figure size 432x288 with 1 Axes>"
            ]
          },
          "metadata": {
            "tags": []
          }
        }
      ]
    },
    {
      "cell_type": "code",
      "metadata": {
        "id": "ocmG4joFoPz9",
        "colab_type": "code",
        "outputId": "b168a82b-9482-4655-d72d-b6eba2313d21",
        "colab": {
          "base_uri": "https://localhost:8080/",
          "height": 34
        }
      },
      "source": [
        "x_train[0].shape"
      ],
      "execution_count": 92,
      "outputs": [
        {
          "output_type": "execute_result",
          "data": {
            "text/plain": [
              "(32, 32, 3)"
            ]
          },
          "metadata": {
            "tags": []
          },
          "execution_count": 92
        }
      ]
    },
    {
      "cell_type": "code",
      "metadata": {
        "id": "F-PF1w1AV6Lc",
        "colab_type": "code",
        "colab": {}
      },
      "source": [
        "from keras.layers import LeakyReLU"
      ],
      "execution_count": 0,
      "outputs": []
    },
    {
      "cell_type": "code",
      "metadata": {
        "id": "QwHx9jajXlcC",
        "colab_type": "code",
        "colab": {}
      },
      "source": [
        "from keras.optimizers import SGD\n",
        "from keras.layers import BatchNormalization"
      ],
      "execution_count": 0,
      "outputs": []
    },
    {
      "cell_type": "code",
      "metadata": {
        "id": "zaLJEkgGOPAc",
        "colab_type": "code",
        "outputId": "937f7c9a-0393-47c1-a13e-5ca7c02019ba",
        "colab": {
          "base_uri": "https://localhost:8080/",
          "height": 853
        }
      },
      "source": [
        "model = Sequential()\n",
        "\n",
        "\n",
        "model.add(Conv2D(32, (2, 2), activation='relu', padding='same', input_shape=(32, 32, 3)))\n",
        "model.add(BatchNormalization())\n",
        "model.add(Conv2D(32, (2, 2), activation='relu', padding='same'))\n",
        "model.add(MaxPooling2D(pool_size=(2,2)))\n",
        "model.add(Dropout(.15))\n",
        "\n",
        "model.add(Conv2D(64, (2, 2), activation='relu', padding='same'))\n",
        "model.add(BatchNormalization())\n",
        "model.add(Conv2D(64, (2, 2), activation='relu', padding='same'))\n",
        "model.add(MaxPooling2D(pool_size=(2,2)))\n",
        "model.add(Dropout(.15))\n",
        "\n",
        "model.add(Conv2D(128, (2, 2), activation='relu', padding='same'))\n",
        "model.add(BatchNormalization())\n",
        "model.add(Conv2D(128, (2, 2), activation='relu', padding='same'))\n",
        "model.add(MaxPooling2D(pool_size=(2,2)))\n",
        "model.add(Dropout(.15))\n",
        "  \n",
        "model.add(Flatten())\n",
        "model.add(Dense(4096,kernel_initializer='he_normal' ,activation='relu'))\n",
        "model.add(Dropout(0.75))\n",
        "#model.add(Dense(4096,kernel_initializer='he_normal' ,activation='relu'))\n",
        "#model.add(Dropout(0.65))\n",
        "\n",
        "model.add(Dense(num_classes,kernel_initializer='he_normal'))\n",
        "model.add(Activation('softmax'))\n",
        "model.summary()\n",
        "\n",
        "#sgd=SGD(lr=.1, decay=1e-6,momentum=.9,nesterov=True)\n",
        "\n",
        "model.compile(loss='categorical_crossentropy',   optimizer='adam' ,metrics=['accuracy'])\n",
        "\n",
        "    \n",
        "\n"
      ],
      "execution_count": 95,
      "outputs": [
        {
          "output_type": "stream",
          "text": [
            "W0802 01:30:34.427363 140672187643776 nn_ops.py:4224] Large dropout rate: 0.75 (>0.5). In TensorFlow 2.x, dropout() uses dropout rate instead of keep_prob. Please ensure that this is intended.\n"
          ],
          "name": "stderr"
        },
        {
          "output_type": "stream",
          "text": [
            "_________________________________________________________________\n",
            "Layer (type)                 Output Shape              Param #   \n",
            "=================================================================\n",
            "conv2d_73 (Conv2D)           (None, 32, 32, 32)        416       \n",
            "_________________________________________________________________\n",
            "batch_normalization_37 (Batc (None, 32, 32, 32)        128       \n",
            "_________________________________________________________________\n",
            "conv2d_74 (Conv2D)           (None, 32, 32, 32)        4128      \n",
            "_________________________________________________________________\n",
            "max_pooling2d_37 (MaxPooling (None, 16, 16, 32)        0         \n",
            "_________________________________________________________________\n",
            "dropout_48 (Dropout)         (None, 16, 16, 32)        0         \n",
            "_________________________________________________________________\n",
            "conv2d_75 (Conv2D)           (None, 16, 16, 64)        8256      \n",
            "_________________________________________________________________\n",
            "batch_normalization_38 (Batc (None, 16, 16, 64)        256       \n",
            "_________________________________________________________________\n",
            "conv2d_76 (Conv2D)           (None, 16, 16, 64)        16448     \n",
            "_________________________________________________________________\n",
            "max_pooling2d_38 (MaxPooling (None, 8, 8, 64)          0         \n",
            "_________________________________________________________________\n",
            "dropout_49 (Dropout)         (None, 8, 8, 64)          0         \n",
            "_________________________________________________________________\n",
            "conv2d_77 (Conv2D)           (None, 8, 8, 128)         32896     \n",
            "_________________________________________________________________\n",
            "batch_normalization_39 (Batc (None, 8, 8, 128)         512       \n",
            "_________________________________________________________________\n",
            "conv2d_78 (Conv2D)           (None, 8, 8, 128)         65664     \n",
            "_________________________________________________________________\n",
            "max_pooling2d_39 (MaxPooling (None, 4, 4, 128)         0         \n",
            "_________________________________________________________________\n",
            "dropout_50 (Dropout)         (None, 4, 4, 128)         0         \n",
            "_________________________________________________________________\n",
            "flatten_13 (Flatten)         (None, 2048)              0         \n",
            "_________________________________________________________________\n",
            "dense_24 (Dense)             (None, 4096)              8392704   \n",
            "_________________________________________________________________\n",
            "dropout_51 (Dropout)         (None, 4096)              0         \n",
            "_________________________________________________________________\n",
            "dense_25 (Dense)             (None, 10)                40970     \n",
            "_________________________________________________________________\n",
            "activation_6 (Activation)    (None, 10)                0         \n",
            "=================================================================\n",
            "Total params: 8,562,378\n",
            "Trainable params: 8,561,930\n",
            "Non-trainable params: 448\n",
            "_________________________________________________________________\n"
          ],
          "name": "stdout"
        }
      ]
    },
    {
      "cell_type": "code",
      "metadata": {
        "id": "5Ar3kI7An2VV",
        "colab_type": "code",
        "colab": {}
      },
      "source": [
        "epochs=150"
      ],
      "execution_count": 0,
      "outputs": []
    },
    {
      "cell_type": "code",
      "metadata": {
        "id": "umI6C7V0y_rX",
        "colab_type": "code",
        "colab": {}
      },
      "source": [
        "from keras.callbacks import ModelCheckpoint, EarlyStopping\n"
      ],
      "execution_count": 0,
      "outputs": []
    },
    {
      "cell_type": "code",
      "metadata": {
        "id": "FLTEO8tsxME9",
        "colab_type": "code",
        "colab": {}
      },
      "source": [
        ""
      ],
      "execution_count": 0,
      "outputs": []
    },
    {
      "cell_type": "code",
      "metadata": {
        "id": "pkjgtMr51VQp",
        "colab_type": "code",
        "colab": {
          "base_uri": "https://localhost:8080/",
          "height": 1000
        },
        "outputId": "03534659-3150-4b47-b0ea-bcd80ca6b607"
      },
      "source": [
        "filepath=\"weights.best.hdf5\"\n",
        "checkpoint = ModelCheckpoint(filepath, monitor='val_acc', verbose=1, save_best_only=True, mode='max')\n",
        "\n",
        "# check 5 epochs\n",
        "early_stop = EarlyStopping(monitor='val_acc', patience=15, mode='max') \n",
        "callbacks_list = [checkpoint, early_stop]\n",
        "\n",
        "history = model.fit(x_train, y_train,batch_size=200,epochs=epochs,verbose=1,validation_data=(x_test,y_test),callbacks=callbacks_list)\n",
        "\n",
        "#history=model.fit_generator(datagen."
      ],
      "execution_count": 98,
      "outputs": [
        {
          "output_type": "stream",
          "text": [
            "Train on 50000 samples, validate on 10000 samples\n",
            "Epoch 1/150\n",
            "50000/50000 [==============================] - 12s 244us/step - loss: 2.6293 - acc: 0.3269 - val_loss: 1.6765 - val_acc: 0.3922\n",
            "\n",
            "Epoch 00001: val_acc improved from -inf to 0.39220, saving model to weights.best.hdf5\n",
            "Epoch 2/150\n",
            "50000/50000 [==============================] - 9s 182us/step - loss: 1.3766 - acc: 0.4981 - val_loss: 1.2101 - val_acc: 0.5595\n",
            "\n",
            "Epoch 00002: val_acc improved from 0.39220 to 0.55950, saving model to weights.best.hdf5\n",
            "Epoch 3/150\n",
            "50000/50000 [==============================] - 9s 181us/step - loss: 1.1558 - acc: 0.5840 - val_loss: 1.0119 - val_acc: 0.6446\n",
            "\n",
            "Epoch 00003: val_acc improved from 0.55950 to 0.64460, saving model to weights.best.hdf5\n",
            "Epoch 4/150\n",
            "50000/50000 [==============================] - 9s 181us/step - loss: 1.0107 - acc: 0.6411 - val_loss: 1.0164 - val_acc: 0.6308\n",
            "\n",
            "Epoch 00004: val_acc did not improve from 0.64460\n",
            "Epoch 5/150\n",
            "50000/50000 [==============================] - 9s 181us/step - loss: 0.9032 - acc: 0.6783 - val_loss: 0.7929 - val_acc: 0.7152\n",
            "\n",
            "Epoch 00005: val_acc improved from 0.64460 to 0.71520, saving model to weights.best.hdf5\n",
            "Epoch 6/150\n",
            "50000/50000 [==============================] - 9s 180us/step - loss: 0.8275 - acc: 0.7089 - val_loss: 0.7565 - val_acc: 0.7340\n",
            "\n",
            "Epoch 00006: val_acc improved from 0.71520 to 0.73400, saving model to weights.best.hdf5\n",
            "Epoch 7/150\n",
            "50000/50000 [==============================] - 9s 180us/step - loss: 0.7686 - acc: 0.7314 - val_loss: 0.7090 - val_acc: 0.7517\n",
            "\n",
            "Epoch 00007: val_acc improved from 0.73400 to 0.75170, saving model to weights.best.hdf5\n",
            "Epoch 8/150\n",
            "50000/50000 [==============================] - 9s 180us/step - loss: 0.7201 - acc: 0.7467 - val_loss: 0.7571 - val_acc: 0.7345\n",
            "\n",
            "Epoch 00008: val_acc did not improve from 0.75170\n",
            "Epoch 9/150\n",
            "50000/50000 [==============================] - 9s 179us/step - loss: 0.6733 - acc: 0.7635 - val_loss: 0.7110 - val_acc: 0.7548\n",
            "\n",
            "Epoch 00009: val_acc improved from 0.75170 to 0.75480, saving model to weights.best.hdf5\n",
            "Epoch 10/150\n",
            "50000/50000 [==============================] - 9s 179us/step - loss: 0.6386 - acc: 0.7770 - val_loss: 0.6498 - val_acc: 0.7754\n",
            "\n",
            "Epoch 00010: val_acc improved from 0.75480 to 0.77540, saving model to weights.best.hdf5\n",
            "Epoch 11/150\n",
            "50000/50000 [==============================] - 9s 178us/step - loss: 0.5987 - acc: 0.7909 - val_loss: 0.6347 - val_acc: 0.7783\n",
            "\n",
            "Epoch 00011: val_acc improved from 0.77540 to 0.77830, saving model to weights.best.hdf5\n",
            "Epoch 12/150\n",
            "50000/50000 [==============================] - 9s 180us/step - loss: 0.5743 - acc: 0.7993 - val_loss: 0.6206 - val_acc: 0.7879\n",
            "\n",
            "Epoch 00012: val_acc improved from 0.77830 to 0.78790, saving model to weights.best.hdf5\n",
            "Epoch 13/150\n",
            "50000/50000 [==============================] - 9s 180us/step - loss: 0.5477 - acc: 0.8085 - val_loss: 0.6644 - val_acc: 0.7693\n",
            "\n",
            "Epoch 00013: val_acc did not improve from 0.78790\n",
            "Epoch 14/150\n",
            "50000/50000 [==============================] - 9s 180us/step - loss: 0.5166 - acc: 0.8181 - val_loss: 0.5854 - val_acc: 0.8034\n",
            "\n",
            "Epoch 00014: val_acc improved from 0.78790 to 0.80340, saving model to weights.best.hdf5\n",
            "Epoch 15/150\n",
            "50000/50000 [==============================] - 9s 180us/step - loss: 0.4946 - acc: 0.8273 - val_loss: 0.7282 - val_acc: 0.7763\n",
            "\n",
            "Epoch 00015: val_acc did not improve from 0.80340\n",
            "Epoch 16/150\n",
            "50000/50000 [==============================] - 9s 183us/step - loss: 0.4715 - acc: 0.8347 - val_loss: 0.5612 - val_acc: 0.8093\n",
            "\n",
            "Epoch 00016: val_acc improved from 0.80340 to 0.80930, saving model to weights.best.hdf5\n",
            "Epoch 17/150\n",
            "50000/50000 [==============================] - 9s 180us/step - loss: 0.4438 - acc: 0.8449 - val_loss: 0.5974 - val_acc: 0.8047\n",
            "\n",
            "Epoch 00017: val_acc did not improve from 0.80930\n",
            "Epoch 18/150\n",
            "50000/50000 [==============================] - 9s 179us/step - loss: 0.4283 - acc: 0.8497 - val_loss: 0.5849 - val_acc: 0.8087\n",
            "\n",
            "Epoch 00018: val_acc did not improve from 0.80930\n",
            "Epoch 19/150\n",
            "50000/50000 [==============================] - 9s 179us/step - loss: 0.4058 - acc: 0.8584 - val_loss: 0.5479 - val_acc: 0.8146\n",
            "\n",
            "Epoch 00019: val_acc improved from 0.80930 to 0.81460, saving model to weights.best.hdf5\n",
            "Epoch 20/150\n",
            "50000/50000 [==============================] - 9s 179us/step - loss: 0.3878 - acc: 0.8639 - val_loss: 0.5986 - val_acc: 0.8081\n",
            "\n",
            "Epoch 00020: val_acc did not improve from 0.81460\n",
            "Epoch 21/150\n",
            "50000/50000 [==============================] - 9s 179us/step - loss: 0.3740 - acc: 0.8699 - val_loss: 0.5970 - val_acc: 0.8130\n",
            "\n",
            "Epoch 00021: val_acc did not improve from 0.81460\n",
            "Epoch 22/150\n",
            "50000/50000 [==============================] - 9s 180us/step - loss: 0.3588 - acc: 0.8747 - val_loss: 0.5572 - val_acc: 0.8197\n",
            "\n",
            "Epoch 00022: val_acc improved from 0.81460 to 0.81970, saving model to weights.best.hdf5\n",
            "Epoch 23/150\n",
            "50000/50000 [==============================] - 9s 179us/step - loss: 0.3405 - acc: 0.8802 - val_loss: 0.5843 - val_acc: 0.8137\n",
            "\n",
            "Epoch 00023: val_acc did not improve from 0.81970\n",
            "Epoch 24/150\n",
            "50000/50000 [==============================] - 9s 179us/step - loss: 0.3267 - acc: 0.8850 - val_loss: 0.6236 - val_acc: 0.8058\n",
            "\n",
            "Epoch 00024: val_acc did not improve from 0.81970\n",
            "Epoch 25/150\n",
            "50000/50000 [==============================] - 9s 180us/step - loss: 0.3184 - acc: 0.8878 - val_loss: 0.5557 - val_acc: 0.8267\n",
            "\n",
            "Epoch 00025: val_acc improved from 0.81970 to 0.82670, saving model to weights.best.hdf5\n",
            "Epoch 26/150\n",
            "50000/50000 [==============================] - 9s 179us/step - loss: 0.3037 - acc: 0.8953 - val_loss: 0.6149 - val_acc: 0.8149\n",
            "\n",
            "Epoch 00026: val_acc did not improve from 0.82670\n",
            "Epoch 27/150\n",
            "50000/50000 [==============================] - 9s 179us/step - loss: 0.2879 - acc: 0.9003 - val_loss: 0.5601 - val_acc: 0.8297\n",
            "\n",
            "Epoch 00027: val_acc improved from 0.82670 to 0.82970, saving model to weights.best.hdf5\n",
            "Epoch 28/150\n",
            "50000/50000 [==============================] - 9s 180us/step - loss: 0.2844 - acc: 0.8997 - val_loss: 0.5587 - val_acc: 0.8300\n",
            "\n",
            "Epoch 00028: val_acc improved from 0.82970 to 0.83000, saving model to weights.best.hdf5\n",
            "Epoch 29/150\n",
            "50000/50000 [==============================] - 9s 180us/step - loss: 0.2767 - acc: 0.9031 - val_loss: 0.5536 - val_acc: 0.8283\n",
            "\n",
            "Epoch 00029: val_acc did not improve from 0.83000\n",
            "Epoch 30/150\n",
            "50000/50000 [==============================] - 9s 179us/step - loss: 0.2646 - acc: 0.9083 - val_loss: 0.5615 - val_acc: 0.8275\n",
            "\n",
            "Epoch 00030: val_acc did not improve from 0.83000\n",
            "Epoch 31/150\n",
            "50000/50000 [==============================] - 9s 180us/step - loss: 0.2529 - acc: 0.9115 - val_loss: 0.5995 - val_acc: 0.8271\n",
            "\n",
            "Epoch 00031: val_acc did not improve from 0.83000\n",
            "Epoch 32/150\n",
            "50000/50000 [==============================] - 9s 180us/step - loss: 0.2538 - acc: 0.9120 - val_loss: 0.6120 - val_acc: 0.8207\n",
            "\n",
            "Epoch 00032: val_acc did not improve from 0.83000\n",
            "Epoch 33/150\n",
            "50000/50000 [==============================] - 9s 180us/step - loss: 0.2430 - acc: 0.9150 - val_loss: 0.6560 - val_acc: 0.8109\n",
            "\n",
            "Epoch 00033: val_acc did not improve from 0.83000\n",
            "Epoch 34/150\n",
            "50000/50000 [==============================] - 9s 180us/step - loss: 0.2360 - acc: 0.9185 - val_loss: 0.5952 - val_acc: 0.8224\n",
            "\n",
            "Epoch 00034: val_acc did not improve from 0.83000\n",
            "Epoch 35/150\n",
            "50000/50000 [==============================] - 9s 179us/step - loss: 0.2245 - acc: 0.9218 - val_loss: 0.6028 - val_acc: 0.8256\n",
            "\n",
            "Epoch 00035: val_acc did not improve from 0.83000\n",
            "Epoch 36/150\n",
            "50000/50000 [==============================] - 9s 180us/step - loss: 0.2267 - acc: 0.9222 - val_loss: 0.6038 - val_acc: 0.8308\n",
            "\n",
            "Epoch 00036: val_acc improved from 0.83000 to 0.83080, saving model to weights.best.hdf5\n",
            "Epoch 37/150\n",
            "50000/50000 [==============================] - 9s 179us/step - loss: 0.2093 - acc: 0.9262 - val_loss: 0.6118 - val_acc: 0.8239\n",
            "\n",
            "Epoch 00037: val_acc did not improve from 0.83080\n",
            "Epoch 38/150\n",
            "50000/50000 [==============================] - 9s 180us/step - loss: 0.2113 - acc: 0.9269 - val_loss: 0.5956 - val_acc: 0.8249\n",
            "\n",
            "Epoch 00038: val_acc did not improve from 0.83080\n",
            "Epoch 39/150\n",
            "50000/50000 [==============================] - 9s 179us/step - loss: 0.2016 - acc: 0.9304 - val_loss: 0.6350 - val_acc: 0.8268\n",
            "\n",
            "Epoch 00039: val_acc did not improve from 0.83080\n",
            "Epoch 40/150\n",
            "50000/50000 [==============================] - 9s 179us/step - loss: 0.2033 - acc: 0.9294 - val_loss: 0.6671 - val_acc: 0.8183\n",
            "\n",
            "Epoch 00040: val_acc did not improve from 0.83080\n",
            "Epoch 41/150\n",
            "50000/50000 [==============================] - 9s 179us/step - loss: 0.1956 - acc: 0.9317 - val_loss: 0.6137 - val_acc: 0.8325\n",
            "\n",
            "Epoch 00041: val_acc improved from 0.83080 to 0.83250, saving model to weights.best.hdf5\n",
            "Epoch 42/150\n",
            "50000/50000 [==============================] - 9s 179us/step - loss: 0.1869 - acc: 0.9361 - val_loss: 0.6379 - val_acc: 0.8320\n",
            "\n",
            "Epoch 00042: val_acc did not improve from 0.83250\n",
            "Epoch 43/150\n",
            "50000/50000 [==============================] - 9s 180us/step - loss: 0.1864 - acc: 0.9357 - val_loss: 0.6392 - val_acc: 0.8304\n",
            "\n",
            "Epoch 00043: val_acc did not improve from 0.83250\n",
            "Epoch 44/150\n",
            "50000/50000 [==============================] - 9s 178us/step - loss: 0.1867 - acc: 0.9360 - val_loss: 0.5904 - val_acc: 0.8325\n",
            "\n",
            "Epoch 00044: val_acc improved from 0.83250 to 0.83250, saving model to weights.best.hdf5\n",
            "Epoch 45/150\n",
            "50000/50000 [==============================] - 9s 179us/step - loss: 0.1760 - acc: 0.9395 - val_loss: 0.6639 - val_acc: 0.8294\n",
            "\n",
            "Epoch 00045: val_acc did not improve from 0.83250\n",
            "Epoch 46/150\n",
            "50000/50000 [==============================] - 9s 179us/step - loss: 0.1735 - acc: 0.9397 - val_loss: 0.6868 - val_acc: 0.8204\n",
            "\n",
            "Epoch 00046: val_acc did not improve from 0.83250\n",
            "Epoch 47/150\n",
            "50000/50000 [==============================] - 9s 178us/step - loss: 0.1656 - acc: 0.9421 - val_loss: 0.6111 - val_acc: 0.8345\n",
            "\n",
            "Epoch 00047: val_acc improved from 0.83250 to 0.83450, saving model to weights.best.hdf5\n",
            "Epoch 48/150\n",
            "50000/50000 [==============================] - 9s 179us/step - loss: 0.1659 - acc: 0.9428 - val_loss: 0.6211 - val_acc: 0.8343\n",
            "\n",
            "Epoch 00048: val_acc did not improve from 0.83450\n",
            "Epoch 49/150\n",
            "50000/50000 [==============================] - 9s 178us/step - loss: 0.1651 - acc: 0.9433 - val_loss: 0.6231 - val_acc: 0.8312\n",
            "\n",
            "Epoch 00049: val_acc did not improve from 0.83450\n",
            "Epoch 50/150\n",
            "50000/50000 [==============================] - 9s 179us/step - loss: 0.1640 - acc: 0.9426 - val_loss: 0.6094 - val_acc: 0.8359\n",
            "\n",
            "Epoch 00050: val_acc improved from 0.83450 to 0.83590, saving model to weights.best.hdf5\n",
            "Epoch 51/150\n",
            "50000/50000 [==============================] - 9s 179us/step - loss: 0.1530 - acc: 0.9476 - val_loss: 0.6295 - val_acc: 0.8349\n",
            "\n",
            "Epoch 00051: val_acc did not improve from 0.83590\n",
            "Epoch 52/150\n",
            "50000/50000 [==============================] - 9s 179us/step - loss: 0.1576 - acc: 0.9474 - val_loss: 0.6173 - val_acc: 0.8361\n",
            "\n",
            "Epoch 00052: val_acc improved from 0.83590 to 0.83610, saving model to weights.best.hdf5\n",
            "Epoch 53/150\n",
            "50000/50000 [==============================] - 9s 179us/step - loss: 0.1517 - acc: 0.9473 - val_loss: 0.6751 - val_acc: 0.8313\n",
            "\n",
            "Epoch 00053: val_acc did not improve from 0.83610\n",
            "Epoch 54/150\n",
            "50000/50000 [==============================] - 9s 179us/step - loss: 0.1544 - acc: 0.9474 - val_loss: 0.6545 - val_acc: 0.8319\n",
            "\n",
            "Epoch 00054: val_acc did not improve from 0.83610\n",
            "Epoch 55/150\n",
            "50000/50000 [==============================] - 9s 178us/step - loss: 0.1561 - acc: 0.9467 - val_loss: 0.6320 - val_acc: 0.8366\n",
            "\n",
            "Epoch 00055: val_acc improved from 0.83610 to 0.83660, saving model to weights.best.hdf5\n",
            "Epoch 56/150\n",
            "50000/50000 [==============================] - 9s 178us/step - loss: 0.1470 - acc: 0.9501 - val_loss: 0.6999 - val_acc: 0.8270\n",
            "\n",
            "Epoch 00056: val_acc did not improve from 0.83660\n",
            "Epoch 57/150\n",
            "50000/50000 [==============================] - 9s 178us/step - loss: 0.1531 - acc: 0.9472 - val_loss: 0.6157 - val_acc: 0.8373\n",
            "\n",
            "Epoch 00057: val_acc improved from 0.83660 to 0.83730, saving model to weights.best.hdf5\n",
            "Epoch 58/150\n",
            "50000/50000 [==============================] - 9s 179us/step - loss: 0.1399 - acc: 0.9519 - val_loss: 0.6130 - val_acc: 0.8423\n",
            "\n",
            "Epoch 00058: val_acc improved from 0.83730 to 0.84230, saving model to weights.best.hdf5\n",
            "Epoch 59/150\n",
            "50000/50000 [==============================] - 9s 180us/step - loss: 0.1383 - acc: 0.9532 - val_loss: 0.6562 - val_acc: 0.8339\n",
            "\n",
            "Epoch 00059: val_acc did not improve from 0.84230\n",
            "Epoch 60/150\n",
            "50000/50000 [==============================] - 9s 179us/step - loss: 0.1378 - acc: 0.9536 - val_loss: 0.6617 - val_acc: 0.8309\n",
            "\n",
            "Epoch 00060: val_acc did not improve from 0.84230\n",
            "Epoch 61/150\n",
            "50000/50000 [==============================] - 9s 179us/step - loss: 0.1365 - acc: 0.9537 - val_loss: 0.6455 - val_acc: 0.8373\n",
            "\n",
            "Epoch 00061: val_acc did not improve from 0.84230\n",
            "Epoch 62/150\n",
            "50000/50000 [==============================] - 9s 178us/step - loss: 0.1333 - acc: 0.9543 - val_loss: 0.6320 - val_acc: 0.8425\n",
            "\n",
            "Epoch 00062: val_acc improved from 0.84230 to 0.84250, saving model to weights.best.hdf5\n",
            "Epoch 63/150\n",
            "50000/50000 [==============================] - 9s 179us/step - loss: 0.1343 - acc: 0.9544 - val_loss: 0.6175 - val_acc: 0.8405\n",
            "\n",
            "Epoch 00063: val_acc did not improve from 0.84250\n",
            "Epoch 64/150\n",
            "50000/50000 [==============================] - 9s 178us/step - loss: 0.1291 - acc: 0.9564 - val_loss: 0.6294 - val_acc: 0.8407\n",
            "\n",
            "Epoch 00064: val_acc did not improve from 0.84250\n",
            "Epoch 65/150\n",
            "50000/50000 [==============================] - 9s 178us/step - loss: 0.1256 - acc: 0.9577 - val_loss: 0.7099 - val_acc: 0.8274\n",
            "\n",
            "Epoch 00065: val_acc did not improve from 0.84250\n",
            "Epoch 66/150\n",
            "50000/50000 [==============================] - 9s 178us/step - loss: 0.1324 - acc: 0.9556 - val_loss: 0.6670 - val_acc: 0.8350\n",
            "\n",
            "Epoch 00066: val_acc did not improve from 0.84250\n",
            "Epoch 67/150\n",
            "50000/50000 [==============================] - 9s 180us/step - loss: 0.1367 - acc: 0.9545 - val_loss: 0.6272 - val_acc: 0.8379\n",
            "\n",
            "Epoch 00067: val_acc did not improve from 0.84250\n",
            "Epoch 68/150\n",
            "50000/50000 [==============================] - 9s 179us/step - loss: 0.1252 - acc: 0.9582 - val_loss: 0.6705 - val_acc: 0.8364\n",
            "\n",
            "Epoch 00068: val_acc did not improve from 0.84250\n",
            "Epoch 69/150\n",
            "50000/50000 [==============================] - 9s 178us/step - loss: 0.1247 - acc: 0.9577 - val_loss: 0.6924 - val_acc: 0.8282\n",
            "\n",
            "Epoch 00069: val_acc did not improve from 0.84250\n",
            "Epoch 70/150\n",
            "50000/50000 [==============================] - 9s 179us/step - loss: 0.1250 - acc: 0.9582 - val_loss: 0.6387 - val_acc: 0.8434\n",
            "\n",
            "Epoch 00070: val_acc improved from 0.84250 to 0.84340, saving model to weights.best.hdf5\n",
            "Epoch 71/150\n",
            "50000/50000 [==============================] - 9s 179us/step - loss: 0.1195 - acc: 0.9604 - val_loss: 0.6258 - val_acc: 0.8418\n",
            "\n",
            "Epoch 00071: val_acc did not improve from 0.84340\n",
            "Epoch 72/150\n",
            "50000/50000 [==============================] - 9s 178us/step - loss: 0.1202 - acc: 0.9604 - val_loss: 0.6499 - val_acc: 0.8420\n",
            "\n",
            "Epoch 00072: val_acc did not improve from 0.84340\n",
            "Epoch 73/150\n",
            "50000/50000 [==============================] - 9s 178us/step - loss: 0.1180 - acc: 0.9598 - val_loss: 0.6936 - val_acc: 0.8322\n",
            "\n",
            "Epoch 00073: val_acc did not improve from 0.84340\n",
            "Epoch 74/150\n",
            "50000/50000 [==============================] - 9s 178us/step - loss: 0.1154 - acc: 0.9615 - val_loss: 0.6933 - val_acc: 0.8257\n",
            "\n",
            "Epoch 00074: val_acc did not improve from 0.84340\n",
            "Epoch 75/150\n",
            "50000/50000 [==============================] - 9s 178us/step - loss: 0.1197 - acc: 0.9601 - val_loss: 0.6537 - val_acc: 0.8384\n",
            "\n",
            "Epoch 00075: val_acc did not improve from 0.84340\n",
            "Epoch 76/150\n",
            "50000/50000 [==============================] - 9s 178us/step - loss: 0.1130 - acc: 0.9621 - val_loss: 0.6582 - val_acc: 0.8367\n",
            "\n",
            "Epoch 00076: val_acc did not improve from 0.84340\n",
            "Epoch 77/150\n",
            "50000/50000 [==============================] - 9s 178us/step - loss: 0.1114 - acc: 0.9629 - val_loss: 0.7009 - val_acc: 0.8363\n",
            "\n",
            "Epoch 00077: val_acc did not improve from 0.84340\n",
            "Epoch 78/150\n",
            "50000/50000 [==============================] - 9s 179us/step - loss: 0.1085 - acc: 0.9637 - val_loss: 0.6812 - val_acc: 0.8410\n",
            "\n",
            "Epoch 00078: val_acc did not improve from 0.84340\n",
            "Epoch 79/150\n",
            "50000/50000 [==============================] - 9s 179us/step - loss: 0.1154 - acc: 0.9620 - val_loss: 0.6777 - val_acc: 0.8326\n",
            "\n",
            "Epoch 00079: val_acc did not improve from 0.84340\n",
            "Epoch 80/150\n",
            "50000/50000 [==============================] - 9s 179us/step - loss: 0.1112 - acc: 0.9624 - val_loss: 0.6771 - val_acc: 0.8377\n",
            "\n",
            "Epoch 00080: val_acc did not improve from 0.84340\n",
            "Epoch 81/150\n",
            "50000/50000 [==============================] - 9s 179us/step - loss: 0.1067 - acc: 0.9641 - val_loss: 0.7093 - val_acc: 0.8336\n",
            "\n",
            "Epoch 00081: val_acc did not improve from 0.84340\n",
            "Epoch 82/150\n",
            "50000/50000 [==============================] - 9s 178us/step - loss: 0.0984 - acc: 0.9668 - val_loss: 0.6970 - val_acc: 0.8354\n",
            "\n",
            "Epoch 00082: val_acc did not improve from 0.84340\n",
            "Epoch 83/150\n",
            "50000/50000 [==============================] - 9s 179us/step - loss: 0.1063 - acc: 0.9649 - val_loss: 0.6710 - val_acc: 0.8417\n",
            "\n",
            "Epoch 00083: val_acc did not improve from 0.84340\n",
            "Epoch 84/150\n",
            "50000/50000 [==============================] - 9s 178us/step - loss: 0.1024 - acc: 0.9657 - val_loss: 0.6796 - val_acc: 0.8414\n",
            "\n",
            "Epoch 00084: val_acc did not improve from 0.84340\n",
            "Epoch 85/150\n",
            "50000/50000 [==============================] - 9s 179us/step - loss: 0.1021 - acc: 0.9661 - val_loss: 0.6474 - val_acc: 0.8414\n",
            "\n",
            "Epoch 00085: val_acc did not improve from 0.84340\n"
          ],
          "name": "stdout"
        }
      ]
    },
    {
      "cell_type": "code",
      "metadata": {
        "id": "NYwLq5eFyFu-",
        "colab_type": "code",
        "outputId": "84cd8a56-e828-40fe-f6da-d0502566f939",
        "colab": {
          "base_uri": "https://localhost:8080/",
          "height": 51
        }
      },
      "source": [
        "\n",
        "model.load_weights(filepath, by_name=False)\n",
        "scores = model.evaluate(x_train, y_train, verbose=0)\n",
        "print(\"Training %s: %.2f%%\" % (model.metrics_names[1], scores[1]*100))\n",
        "\n",
        "scores = model.evaluate(x_test, y_test, verbose=0)\n",
        "print(\"Test %s: %.2f%%\" % (model.metrics_names[1], scores[1]*100))\n",
        "#histories.append(history)\n",
        "#    values.append(scores[1]*100)"
      ],
      "execution_count": 99,
      "outputs": [
        {
          "output_type": "stream",
          "text": [
            "Training acc: 99.95%\n",
            "Test acc: 84.34%\n"
          ],
          "name": "stdout"
        }
      ]
    },
    {
      "cell_type": "code",
      "metadata": {
        "id": "lEgQ-nZA_ZIP",
        "colab_type": "code",
        "colab": {}
      },
      "source": [
        ""
      ],
      "execution_count": 0,
      "outputs": []
    }
  ]
}